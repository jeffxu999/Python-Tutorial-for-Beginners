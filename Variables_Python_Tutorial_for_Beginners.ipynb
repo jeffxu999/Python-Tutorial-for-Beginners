{
  "nbformat": 4,
  "nbformat_minor": 0,
  "metadata": {
    "colab": {
      "name": "Variables - Python Tutorial for Beginners.ipynb",
      "version": "0.3.2",
      "provenance": []
    },
    "kernelspec": {
      "name": "python3",
      "display_name": "Python 3"
    }
  },
  "cells": [
    {
      "metadata": {
        "id": "Oxcs0BQ2pPHX",
        "colab_type": "code",
        "colab": {
          "base_uri": "https://localhost:8080/",
          "height": 151
        },
        "outputId": "9ccebb40-ae83-4763-aabf-bff6e45978d0"
      },
      "cell_type": "code",
      "source": [
        "# Variables - Python Tutorial for Beginners\n",
        "\n",
        "###################################################\n",
        "\n",
        "cat = \"Mimi\"\n",
        "\n",
        "print(cat)\n",
        "\n",
        "###################################################\n",
        "\n",
        "some_string = \"Whats Up!!!\"\n",
        "print(some_string)\n",
        "\n",
        "some_number = 3.14\n",
        "print(some_number)\n",
        "\n",
        "some_dictionary = {\"Frank\":\"Super Cool Guy\"}\n",
        "print(some_dictionary)\n",
        "\n",
        "some_list = [\"Code\",\"Change the World\",\"Eat McDonalds\",\"Eat KFC\",\"Teach AI\"]\n",
        "print(some_list)\n",
        "\n",
        "###################################################\n",
        "\n",
        "cat = \"Mimi\"\n",
        "\n",
        "print(cat)\n",
        "\n",
        "cat = \"Fluffly\"\n",
        "\n",
        "print(cat)\n",
        "\n",
        "cat = 12345\n",
        "\n",
        "print(cat)"
      ],
      "execution_count": 2,
      "outputs": [
        {
          "output_type": "stream",
          "text": [
            "Mimi\n",
            "Whats Up!!!\n",
            "3.14\n",
            "{'Frank': 'Super Cool Guy'}\n",
            "['Code', 'Change the World', 'Eat McDonalds', 'Eat KFC', 'Teach AI']\n",
            "Mimi\n",
            "Fluffly\n",
            "12345\n"
          ],
          "name": "stdout"
        }
      ]
    }
  ]
}