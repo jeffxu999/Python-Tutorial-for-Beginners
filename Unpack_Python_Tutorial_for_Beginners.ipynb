{
  "nbformat": 4,
  "nbformat_minor": 0,
  "metadata": {
    "colab": {
      "name": "Unpack - Python Tutorial for Beginners.ipynb",
      "version": "0.3.2",
      "provenance": []
    },
    "kernelspec": {
      "name": "python3",
      "display_name": "Python 3"
    }
  },
  "cells": [
    {
      "metadata": {
        "id": "MrFvOsca0OGs",
        "colab_type": "code",
        "colab": {
          "base_uri": "https://localhost:8080/",
          "height": 286
        },
        "outputId": "bad76891-77a4-4179-878c-7c7fbdd90e18"
      },
      "cell_type": "code",
      "source": [
        "# Unpack - Python Tutorial for Beginners\n",
        "\n",
        "#############################################################\n",
        "\n",
        "names=[\"Josh\",\"James\",\"Frank\"]\n",
        "\n",
        "print(names)\n",
        "\n",
        "name1, name2, name3 = names\n",
        "\n",
        "print(name1)\n",
        "print(name2)\n",
        "print(name3)\n",
        "\n",
        "nums = [111,222,333]\n",
        "\n",
        "print(nums)\n",
        "\n",
        "num1,num2,num3 = nums\n",
        "\n",
        "print(num1)\n",
        "print(num2)\n",
        "print(num3)\n",
        "\n",
        "#############################################################\n",
        "\n",
        "some_tuple = (1,2,3)\n",
        "\n",
        "print(some_tuple)\n",
        "\n",
        "num1,num2,num3 = some_tuple\n",
        "\n",
        "print(num1)\n",
        "print(num2)\n",
        "print(num3)\n",
        "\n",
        "#############################################################\n",
        "\n",
        "some_dict = {\"Key1\":\"Some Stuffs\",\"Key2\":\"Some More Stuffs\"}\n",
        "\n",
        "print(some_dict)\n",
        "\n",
        "slot1, slot2 = some_dict\n",
        "\n",
        "print(slot1)\n",
        "print(slot2)\n",
        "\n",
        "print(type(slot1))"
      ],
      "execution_count": 3,
      "outputs": [
        {
          "output_type": "stream",
          "text": [
            "['Josh', 'James', 'Frank']\n",
            "Josh\n",
            "James\n",
            "Frank\n",
            "[111, 222, 333]\n",
            "111\n",
            "222\n",
            "333\n",
            "(1, 2, 3)\n",
            "1\n",
            "2\n",
            "3\n",
            "{'Key1': 'Some Stuffs', 'Key2': 'Some More Stuffs'}\n",
            "Key1\n",
            "Key2\n",
            "<class 'str'>\n"
          ],
          "name": "stdout"
        }
      ]
    }
  ]
}