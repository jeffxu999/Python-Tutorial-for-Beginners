{
  "nbformat": 4,
  "nbformat_minor": 0,
  "metadata": {
    "colab": {
      "name": "Object Oriented Programming OOP: Classes & Objects - Python Tutorial for Beginners.ipynb",
      "version": "0.3.2",
      "provenance": []
    },
    "kernelspec": {
      "name": "python3",
      "display_name": "Python 3"
    }
  },
  "cells": [
    {
      "metadata": {
        "id": "-pMDrqnJzvUx",
        "colab_type": "code",
        "colab": {
          "base_uri": "https://localhost:8080/",
          "height": 84
        },
        "outputId": "6a7fb26d-d203-4874-e1e6-c5aa2b156d43"
      },
      "cell_type": "code",
      "source": [
        "# Object Oriented Programming OOP: Classes & Objects - Python Tutorial for Beginners\n",
        "\n",
        "#############################################################\n",
        "\n",
        "class Dog:\n",
        "    def __init__(self,name):\n",
        "        self.name = name\n",
        "        self.species = \"Dog\"\n",
        "        \n",
        "    def bark(self):\n",
        "        print(\"**bark**\")\n",
        "    \n",
        "    def pee(self):\n",
        "        print(self.name,\"peed on your shoes...\")\n",
        "        \n",
        "#############################################################\n",
        "        \n",
        "sparky = Dog(\"Sparky\")\n",
        "\n",
        "print(sparky.name)\n",
        "print(sparky.species)\n",
        "\n",
        "sparky.bark()\n",
        "sparky.pee()"
      ],
      "execution_count": 2,
      "outputs": [
        {
          "output_type": "stream",
          "text": [
            "Sparky\n",
            "Dog\n",
            "**bark**\n",
            "Sparky peed on your shoes...\n"
          ],
          "name": "stdout"
        }
      ]
    }
  ]
}