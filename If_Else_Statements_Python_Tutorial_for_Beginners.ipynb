{
  "nbformat": 4,
  "nbformat_minor": 0,
  "metadata": {
    "colab": {
      "name": "If Else Statements - Python Tutorial for Beginners.ipynb",
      "version": "0.3.2",
      "provenance": []
    },
    "kernelspec": {
      "name": "python3",
      "display_name": "Python 3"
    }
  },
  "cells": [
    {
      "metadata": {
        "id": "7R1xbaVPqnDA",
        "colab_type": "code",
        "colab": {
          "base_uri": "https://localhost:8080/",
          "height": 67
        },
        "outputId": "4d5df6ed-98c6-4e0a-c2b5-e09aee902870"
      },
      "cell_type": "code",
      "source": [
        "# If Else Statements - Python Tutorial for Beginners\n",
        "\n",
        "############################################\n",
        "\n",
        "if True:\n",
        "    print(\"This is True!!!\")\n",
        "else:\n",
        "    print(\"This is False!!!\")\n",
        "    \n",
        "############################################\n",
        "\n",
        "name = \"Sally\"\n",
        "\n",
        "if name == \"Sally\":\n",
        "    print(\"Hey Sally!\")\n",
        "else:\n",
        "    print(\"Hey! You are not Sally!\")\n",
        "    \n",
        "############################################\n",
        "\n",
        "animal = \"cat\"\n",
        "\n",
        "if animal == \"dog\":\n",
        "    print(\"This is a Dog!\")\n",
        "    \n",
        "elif animal == \"rabbit\":\n",
        "    print(\"This is a Rabbit!\")\n",
        "    \n",
        "elif animal == \"cat\":\n",
        "    print(\"This is a Cat!\")\n",
        "    \n",
        "else:\n",
        "    print(\"Hmm, is it a Pokemon?\")"
      ],
      "execution_count": 2,
      "outputs": [
        {
          "output_type": "stream",
          "text": [
            "This is True!!!\n",
            "Hey Sally!\n",
            "This is a Cat!\n"
          ],
          "name": "stdout"
        }
      ]
    }
  ]
}