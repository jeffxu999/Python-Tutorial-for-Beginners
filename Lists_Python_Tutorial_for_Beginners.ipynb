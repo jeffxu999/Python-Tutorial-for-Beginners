{
  "nbformat": 4,
  "nbformat_minor": 0,
  "metadata": {
    "colab": {
      "name": "Lists - Python Tutorial for Beginners.ipynb",
      "version": "0.3.2",
      "provenance": []
    },
    "kernelspec": {
      "name": "python3",
      "display_name": "Python 3"
    }
  },
  "cells": [
    {
      "metadata": {
        "id": "0dOd80h3rqCh",
        "colab_type": "code",
        "colab": {
          "base_uri": "https://localhost:8080/",
          "height": 134
        },
        "outputId": "7d0aa39b-dd39-46bd-c2c4-73445c813773"
      },
      "cell_type": "code",
      "source": [
        "# Lists - Python Tutorial for Beginners\n",
        "\n",
        "##################################################\n",
        "\n",
        "some_list = [\"John\",\"James\",\"Frank\"]\n",
        "\n",
        "print(some_list)\n",
        "\n",
        "##################################################\n",
        "\n",
        "some_list = [\"John\",\"James\",\"Frank\"]\n",
        "\n",
        "print(some_list[0])\n",
        "\n",
        "print(some_list[1])\n",
        "\n",
        "print(some_list[2])\n",
        "\n",
        "##################################################\n",
        "\n",
        "some_list = [1,2,3]\n",
        "\n",
        "some_variable = \"Hey!\"\n",
        "\n",
        "def some_function():\n",
        "    return \"Hello World!\"\n",
        "\n",
        "master_list = [some_list,some_variable,some_function()]\n",
        "\n",
        "print(master_list[0])\n",
        "\n",
        "print(master_list[1])\n",
        "\n",
        "print(master_list[2])"
      ],
      "execution_count": 1,
      "outputs": [
        {
          "output_type": "stream",
          "text": [
            "['John', 'James', 'Frank']\n",
            "John\n",
            "James\n",
            "Frank\n",
            "[1, 2, 3]\n",
            "Hey!\n",
            "Hello World!\n"
          ],
          "name": "stdout"
        }
      ]
    }
  ]
}