{
  "nbformat": 4,
  "nbformat_minor": 0,
  "metadata": {
    "colab": {
      "name": "For Loop - Python Tutorial for Beginners.ipynb",
      "version": "0.3.2",
      "provenance": []
    },
    "kernelspec": {
      "name": "python3",
      "display_name": "Python 3"
    }
  },
  "cells": [
    {
      "metadata": {
        "id": "T3BgNNM1rpM5",
        "colab_type": "code",
        "colab": {
          "base_uri": "https://localhost:8080/",
          "height": 252
        },
        "outputId": "fef56def-9c0a-4d86-dfc0-c8bb80761ddf"
      },
      "cell_type": "code",
      "source": [
        "# For Loop - Python Tutorial for Beginners\n",
        "\n",
        "##################################################\n",
        "\n",
        "some_list = [1,2,3,4,5]\n",
        "\n",
        "for number in some_list:\n",
        "    print(number)\n",
        "    \n",
        "##################################################\n",
        "\n",
        "some_list = [1,2,3,4,5]\n",
        "\n",
        "for number in some_list:\n",
        "    print(number)\n",
        "    \n",
        "new_list = []\n",
        "\n",
        "for number in some_list:\n",
        "    new_list.append(2*number)\n",
        "    \n",
        "print(new_list)\n",
        "\n",
        "##################################################\n",
        "\n",
        "new_list = [i for i in range(10)]\n",
        "print(new_list)\n",
        "\n",
        "new_list = [i+1 for i in range(10)]\n",
        "print(new_list)\n",
        "\n",
        "new_list = [5*(i+1) for i in range(10)]\n",
        "print(new_list)"
      ],
      "execution_count": 1,
      "outputs": [
        {
          "output_type": "stream",
          "text": [
            "1\n",
            "2\n",
            "3\n",
            "4\n",
            "5\n",
            "1\n",
            "2\n",
            "3\n",
            "4\n",
            "5\n",
            "[2, 4, 6, 8, 10]\n",
            "[0, 1, 2, 3, 4, 5, 6, 7, 8, 9]\n",
            "[1, 2, 3, 4, 5, 6, 7, 8, 9, 10]\n",
            "[5, 10, 15, 20, 25, 30, 35, 40, 45, 50]\n"
          ],
          "name": "stdout"
        }
      ]
    }
  ]
}