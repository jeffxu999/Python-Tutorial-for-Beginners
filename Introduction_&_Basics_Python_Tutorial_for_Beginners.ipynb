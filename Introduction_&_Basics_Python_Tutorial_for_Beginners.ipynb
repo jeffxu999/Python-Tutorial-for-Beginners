{
  "nbformat": 4,
  "nbformat_minor": 0,
  "metadata": {
    "colab": {
      "name": "Introduction & Basics - Python Tutorial for Beginners.ipynb",
      "version": "0.3.2",
      "provenance": []
    },
    "kernelspec": {
      "name": "python3",
      "display_name": "Python 3"
    }
  },
  "cells": [
    {
      "metadata": {
        "id": "UYwztXPRkS0F",
        "colab_type": "code",
        "outputId": "b71c2d57-e1d2-4386-fc9e-2a0b6a9fb5b0",
        "colab": {
          "base_uri": "https://localhost:8080/",
          "height": 34
        }
      },
      "cell_type": "code",
      "source": [
        "# Introduction & Basics - Python Tutorial for Beginners\n",
        "\n",
        "###################################################\n",
        "\n",
        "print(\"Hello World\")"
      ],
      "execution_count": 2,
      "outputs": [
        {
          "output_type": "stream",
          "text": [
            "Hello World\n"
          ],
          "name": "stdout"
        }
      ]
    }
  ]
}