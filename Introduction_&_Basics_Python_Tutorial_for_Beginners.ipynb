{
  "nbformat": 4,
  "nbformat_minor": 0,
  "metadata": {
    "colab": {
      "name": "Introduction & Basics - Python Tutorial for Beginners.ipynb",
      "version": "0.3.2",
      "provenance": []
    },
    "kernelspec": {
      "name": "python3",
      "display_name": "Python 3"
    }
  },
  "cells": [
    {
      "metadata": {
        "id": "UYwztXPRkS0F",
        "colab_type": "code",
        "colab": {}
      },
      "cell_type": "code",
      "source": [
        "# Introduction & Basics - Python Tutorial for Beginners\n",
        "\n",
        "print(\"Hello World\")"
      ],
      "execution_count": 0,
      "outputs": []
    }
  ]
}