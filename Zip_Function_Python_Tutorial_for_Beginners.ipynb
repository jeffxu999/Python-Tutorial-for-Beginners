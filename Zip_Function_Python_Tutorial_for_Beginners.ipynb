{
  "nbformat": 4,
  "nbformat_minor": 0,
  "metadata": {
    "colab": {
      "name": "Zip Function - Python Tutorial for Beginners.ipynb",
      "version": "0.3.2",
      "provenance": []
    },
    "kernelspec": {
      "name": "python3",
      "display_name": "Python 3"
    }
  },
  "cells": [
    {
      "metadata": {
        "id": "EgxovZRy0Lap",
        "colab_type": "code",
        "colab": {
          "base_uri": "https://localhost:8080/",
          "height": 151
        },
        "outputId": "c334d4bd-d593-4090-cfb2-da800a80375e"
      },
      "cell_type": "code",
      "source": [
        "# Zip Function - Python Tutorial for Beginners\n",
        "\n",
        "#############################################################\n",
        "\n",
        "some_list = [1,3,5,7,9]\n",
        "\n",
        "some_list2 = [0,2,4,6,8]\n",
        "\n",
        "print(some_list)\n",
        "\n",
        "print(some_list2)\n",
        "\n",
        "some_new_list = zip(some_list,some_list2)\n",
        "\n",
        "print(some_new_list)\n",
        "\n",
        "for line in some_new_list:\n",
        "    print(line)"
      ],
      "execution_count": 1,
      "outputs": [
        {
          "output_type": "stream",
          "text": [
            "[1, 3, 5, 7, 9]\n",
            "[0, 2, 4, 6, 8]\n",
            "<zip object at 0x7fc5b46d08c8>\n",
            "(1, 0)\n",
            "(3, 2)\n",
            "(5, 4)\n",
            "(7, 6)\n",
            "(9, 8)\n"
          ],
          "name": "stdout"
        }
      ]
    }
  ]
}