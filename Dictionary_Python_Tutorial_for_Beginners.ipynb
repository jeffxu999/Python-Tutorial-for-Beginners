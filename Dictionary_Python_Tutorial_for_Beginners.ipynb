{
  "nbformat": 4,
  "nbformat_minor": 0,
  "metadata": {
    "colab": {
      "name": "Dictionary - Python Tutorial for Beginners.ipynb",
      "version": "0.3.2",
      "provenance": []
    },
    "kernelspec": {
      "name": "python3",
      "display_name": "Python 3"
    }
  },
  "cells": [
    {
      "metadata": {
        "id": "oQlic0mCrxgD",
        "colab_type": "code",
        "colab": {
          "base_uri": "https://localhost:8080/",
          "height": 87
        },
        "outputId": "289f8da5-8ff9-44cc-cc15-360321a74c1c"
      },
      "cell_type": "code",
      "source": [
        "# Dictionary - Python Tutorial for Beginners\n",
        "\n",
        "##################################################\n",
        "\n",
        "email_dict = {\"Josh\":\"john@gmail.com\",\"Frank\":\"frank@gmail.com\",\"Peter\":\"peter@gmail.com\"}\n",
        "\n",
        "print(email_dict[\"Frank\"])\n",
        "\n",
        "##################################################\n",
        "\n",
        "email_dict = {\"Josh\":\"john@gmail.com\",\"Frank\":\"frank@gmail.com\",\"Peter\":\"peter@gmail.com\"}\n",
        "email_dict[\"Sally\"] = \"sally@gmail.com\"\n",
        "\n",
        "print(email_dict)\n",
        "\n",
        "##################################################\n",
        "\n",
        "email_dict = {\"Josh\":\"john@gmail.com\",\"Frank\":\"frank@gmail.com\",\"Peter\":\"peter@gmail.com\"}\n",
        "email_dict[\"John\"] = \"johnny@gmail.com\"\n",
        "\n",
        "print(email_dict)"
      ],
      "execution_count": 1,
      "outputs": [
        {
          "output_type": "stream",
          "text": [
            "frank@gmail.com\n",
            "{'Josh': 'john@gmail.com', 'Frank': 'frank@gmail.com', 'Peter': 'peter@gmail.com', 'Sally': 'sally@gmail.com'}\n",
            "{'Josh': 'john@gmail.com', 'Frank': 'frank@gmail.com', 'Peter': 'peter@gmail.com', 'John': 'johnny@gmail.com'}\n"
          ],
          "name": "stdout"
        }
      ]
    }
  ]
}