{
  "nbformat": 4,
  "nbformat_minor": 0,
  "metadata": {
    "colab": {
      "name": "Try Except - Python Tutorial for Beginners.ipynb",
      "version": "0.3.2",
      "provenance": []
    },
    "kernelspec": {
      "name": "python3",
      "display_name": "Python 3"
    }
  },
  "cells": [
    {
      "metadata": {
        "id": "ADcq6KQZ0Bq5",
        "colab_type": "code",
        "colab": {
          "base_uri": "https://localhost:8080/",
          "height": 34
        },
        "outputId": "9f4b1331-2b95-4158-feb4-126d6d32e381"
      },
      "cell_type": "code",
      "source": [
        "# Try Except - Python Tutorial for Beginners\n",
        "\n",
        "#############################################################\n",
        "\n",
        "try:\n",
        "    print(10/0)\n",
        "except:\n",
        "    print(\"Can't divide by zero! ;)\")"
      ],
      "execution_count": 1,
      "outputs": [
        {
          "output_type": "stream",
          "text": [
            "Can't divide by zero! ;)\n"
          ],
          "name": "stdout"
        }
      ]
    }
  ]
}