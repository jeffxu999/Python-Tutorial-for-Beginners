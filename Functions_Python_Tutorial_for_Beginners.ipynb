{
  "nbformat": 4,
  "nbformat_minor": 0,
  "metadata": {
    "colab": {
      "name": "Functions - Python Tutorial for Beginners.ipynb",
      "version": "0.3.2",
      "provenance": []
    },
    "kernelspec": {
      "name": "python3",
      "display_name": "Python 3"
    }
  },
  "cells": [
    {
      "metadata": {
        "id": "X7TwLxxNrkfa",
        "colab_type": "code",
        "colab": {
          "base_uri": "https://localhost:8080/",
          "height": 151
        },
        "outputId": "6c36eecb-50d8-4afd-ee0f-007319c31e57"
      },
      "cell_type": "code",
      "source": [
        "# Functions - Python Tutorial for Beginners\n",
        "\n",
        "##################################################\n",
        "\n",
        "def warm_greeting():\n",
        "    print(\"Hey! How's it going?\")\n",
        "    \n",
        "warm_greeting()\n",
        "\n",
        "##################################################\n",
        "\n",
        "def custom_greeting(name,day_type):\n",
        "    print(\"Hey \" + name + \"! I hope you are having a \" + day_type + \" day!\")\n",
        "    \n",
        "custom_greeting(\"John\",\"wonderful\")\n",
        "\n",
        "##################################################\n",
        "\n",
        "def custom_greeting(name,day_type):\n",
        "    return \"Hey \" + name + \"! I hope you are having a \" + day_type + \" day!\"\n",
        "    \n",
        "output_message = custom_greeting(\"John\",\"wonderful\")\n",
        "\n",
        "print(output_message)\n",
        "print(output_message)\n",
        "print(output_message)\n",
        "print(output_message)\n",
        "print(output_message)\n",
        "print(output_message)"
      ],
      "execution_count": 2,
      "outputs": [
        {
          "output_type": "stream",
          "text": [
            "Hey! How's it going?\n",
            "Hey John! I hope you are having a wonderful day!\n",
            "Hey John! I hope you are having a wonderful day!\n",
            "Hey John! I hope you are having a wonderful day!\n",
            "Hey John! I hope you are having a wonderful day!\n",
            "Hey John! I hope you are having a wonderful day!\n",
            "Hey John! I hope you are having a wonderful day!\n",
            "Hey John! I hope you are having a wonderful day!\n"
          ],
          "name": "stdout"
        }
      ]
    }
  ]
}