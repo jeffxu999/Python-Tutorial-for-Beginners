{
  "nbformat": 4,
  "nbformat_minor": 0,
  "metadata": {
    "colab": {
      "name": "Take User Input - Python Tutorial for Beginners.ipynb",
      "version": "0.3.2",
      "provenance": []
    },
    "kernelspec": {
      "name": "python3",
      "display_name": "Python 3"
    }
  },
  "cells": [
    {
      "metadata": {
        "id": "T9Q0z01j0GoP",
        "colab_type": "code",
        "colab": {
          "base_uri": "https://localhost:8080/",
          "height": 238
        },
        "outputId": "fbe7a3c3-a9f3-4bef-964d-8efa96b7b09b"
      },
      "cell_type": "code",
      "source": [
        "# Take User Input - Python Tutorial for Beginners\n",
        "\n",
        "#############################################################\n",
        "\n",
        "name = input(\"Hey! What's your name???\")\n",
        "print(name)\n",
        "\n",
        "name = name.title()\n",
        "print(name)\n",
        "\n",
        "cap_name = name.upper()\n",
        "print(cap_name)\n",
        "\n",
        "lower_name = name.lower()\n",
        "print(lower_name)\n",
        "\n",
        "#############################################################\n",
        "\n",
        "name = input(\"Hey! What's your name???\")\n",
        "\n",
        "if name.lower()==\"john\":\n",
        "    print(\"You are John!!!\")\n",
        "    \n",
        "#############################################################\n",
        "\n",
        "age = input(\"Hey! What's your age???\")\n",
        "\n",
        "print(age*100)\n",
        "\n",
        "print(type(age))\n",
        "\n",
        "age = int(age)\n",
        "print(age*100)\n",
        "\n",
        "age = float(age)\n",
        "print(age*100)"
      ],
      "execution_count": 1,
      "outputs": [
        {
          "output_type": "stream",
          "text": [
            "Hey! What's your name???John Smith\n",
            "John Smith\n",
            "John Smith\n",
            "JOHN SMITH\n",
            "john smith\n",
            "Hey! What's your name???John\n",
            "You are John!!!\n",
            "Hey! What's your age???111\n",
            "111111111111111111111111111111111111111111111111111111111111111111111111111111111111111111111111111111111111111111111111111111111111111111111111111111111111111111111111111111111111111111111111111111111111111111111111111111111111111111111111111111111111111111111111111111111111111111111111111111111111\n",
            "<class 'str'>\n",
            "11100\n",
            "11100.0\n"
          ],
          "name": "stdout"
        }
      ]
    }
  ]
}