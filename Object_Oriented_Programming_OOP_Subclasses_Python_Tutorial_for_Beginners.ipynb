{
  "nbformat": 4,
  "nbformat_minor": 0,
  "metadata": {
    "colab": {
      "name": "Object Oriented Programming OOP: Subclasses - Python Tutorial for Beginners.ipynb",
      "version": "0.3.2",
      "provenance": []
    },
    "kernelspec": {
      "name": "python3",
      "display_name": "Python 3"
    }
  },
  "cells": [
    {
      "metadata": {
        "id": "xrH9SBjCz12A",
        "colab_type": "code",
        "colab": {
          "base_uri": "https://localhost:8080/",
          "height": 118
        },
        "outputId": "e8ea7bba-ce7d-4019-e349-9e7d68c81073"
      },
      "cell_type": "code",
      "source": [
        "# Object Oriented Programming OOP: Subclasses - Python Tutorial for Beginners\n",
        "\n",
        "#############################################################\n",
        "\n",
        "class Dog:\n",
        "    def __init__(self,name):\n",
        "        self.name = name\n",
        "        self.species = \"Dog\"\n",
        "        \n",
        "    def bark(self):\n",
        "        print(\"**bark**\")\n",
        "    \n",
        "    def pee(self):\n",
        "        print(self.name,\"peed on your shoes...\")\n",
        "        \n",
        "#############################################################\n",
        "\n",
        "class Puppy(Dog):\n",
        "    def __init__(self,name,age_month):\n",
        "        self.age_month=age_month\n",
        "        super().__init__(name)\n",
        "    \n",
        "    def cute_attack(self):\n",
        "        print(self.name, \"overwhelm you with cuteness!!!\")\n",
        "        \n",
        "#############################################################\n",
        "\n",
        "fluffy = Puppy(\"Fluffy\",6)\n",
        "\n",
        "print(fluffy.name)\n",
        "print(fluffy.species)\n",
        "\n",
        "print(fluffy.age_month)\n",
        "\n",
        "fluffy.bark()\n",
        "fluffy.pee()\n",
        "\n",
        "fluffy.cute_attack()"
      ],
      "execution_count": 2,
      "outputs": [
        {
          "output_type": "stream",
          "text": [
            "Fluffy\n",
            "Dog\n",
            "6\n",
            "**bark**\n",
            "Fluffy peed on your shoes...\n",
            "Fluffy overwhelm you with cuteness!!!\n"
          ],
          "name": "stdout"
        }
      ]
    }
  ]
}