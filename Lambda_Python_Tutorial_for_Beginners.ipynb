{
  "nbformat": 4,
  "nbformat_minor": 0,
  "metadata": {
    "colab": {
      "name": "Lambda - Python Tutorial for Beginners.ipynb",
      "version": "0.3.2",
      "provenance": []
    },
    "kernelspec": {
      "name": "python3",
      "display_name": "Python 3"
    }
  },
  "cells": [
    {
      "metadata": {
        "id": "WxG0MGdrz9Wf",
        "colab_type": "code",
        "colab": {
          "base_uri": "https://localhost:8080/",
          "height": 50
        },
        "outputId": "1528b392-d1df-463d-f2da-e58f298be368"
      },
      "cell_type": "code",
      "source": [
        "# Lambda - Python Tutorial for Beginners\n",
        "\n",
        "#############################################################\n",
        "\n",
        "def color(name,color):\n",
        "    print(name+\"'s color is \"+color+\"!\")\n",
        "    \n",
        "color(\"John\",\"blue\")\n",
        "\n",
        "#############################################################\n",
        "\n",
        "color = lambda name, color : print(name+\"'s color is \"+color+\"!\")\n",
        "    \n",
        "color(\"John\",\"blue\")\n"
      ],
      "execution_count": 2,
      "outputs": [
        {
          "output_type": "stream",
          "text": [
            "John's color is blue!\n",
            "John's color is blue!\n"
          ],
          "name": "stdout"
        }
      ]
    }
  ]
}